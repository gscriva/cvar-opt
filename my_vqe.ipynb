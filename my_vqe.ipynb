{
 "cells": [
  {
   "cell_type": "markdown",
   "metadata": {},
   "source": [
    "\n",
    "### VQE custom implementation\n"
   ]
  },
  {
   "cell_type": "code",
   "execution_count": null,
   "metadata": {},
   "outputs": [],
   "source": [
    "from math import pi\n",
    "from typing import Dict, Any\n",
    "\n",
    "import numpy as np\n",
    "import matplotlib.pyplot as plt\n",
    "from scipy.optimize import minimize\n",
    "from qiskit import QuantumCircuit, QuantumRegister, ClassicalRegister, transpile\n",
    "from qiskit.providers.aer import AerSimulator\n",
    "\n",
    "from qiskit.visualization import plot_histogram\n",
    "\n",
    "from src.utils.ising import IsingModel\n",
    "from src.utils.vqe import create_circ, qc_eval, obj_func"
   ]
  },
  {
   "cell_type": "code",
   "execution_count": null,
   "metadata": {},
   "outputs": [],
   "source": [
    "# Use Aer's qasm_simulator\n",
    "simulator_method = 'automatic'\n",
    "simulator = AerSimulator()\n",
    "# define circuit params \n",
    "num_qubits = 4\n",
    "circ_depth = 1\n",
    "# number circuit evaluations\n",
    "shots = 64\n",
    "num_param = num_qubits * (circ_depth + 1)\n",
    "\n",
    "# define initial point\n",
    "rng = np.random.default_rng(seed=42)\n",
    "thetas0 = rng.random(num_param) * pi #np.zeros((circ_depth + 1, num_param // (circ_depth + 1)))\n",
    "# define specific optimizer\n",
    "method = 'COBYLA'\n",
    "# set maximum optimizer steps\n",
    "maxiter = 10\n",
    "# alpha-th quantile to evaluate the loss\n",
    "alpha = 25"
   ]
  },
  {
   "cell_type": "code",
   "execution_count": null,
   "metadata": {},
   "outputs": [],
   "source": [
    "# define a ferro ising model\n",
    "# with uniform external field\n",
    "J=1\n",
    "h=0.05*J\n",
    "\n",
    "# hamiltonian is defined with +\n",
    "# following http://spinglass.uni-bonn.de/ notation \n",
    "adja_dict = {}\n",
    "field = np.zeros(num_qubits)\n",
    "ext_field = h\n",
    "for i in range(num_qubits):\n",
    "    field[i] = ext_field\n",
    "    if i == num_qubits - 1:\n",
    "        continue\n",
    "    adja_dict[(i, i+1)] = -J\n",
    "# class devoted to set the couplings and get the energy \n",
    "ising = IsingModel(num_qubits, dim=1, adja_dict=adja_dict, ext_field=field)\n",
    "print(ising.AdjaDict, ising.ExtField)"
   ]
  },
  {
   "cell_type": "code",
   "execution_count": null,
   "metadata": {},
   "outputs": [],
   "source": [
    "qc = create_circ(thetas0, num_qubits, circ_depth)\n",
    "# Draw the circuit\n",
    "qc.draw()"
   ]
  },
  {
   "cell_type": "code",
   "execution_count": null,
   "metadata": {},
   "outputs": [],
   "source": [
    "counts = qc_eval(qc, simulator, shots)\n",
    "plot_histogram(counts)"
   ]
  },
  {
   "cell_type": "code",
   "execution_count": null,
   "metadata": {},
   "outputs": [],
   "source": [
    "# test objective function\n",
    "loss0 = obj_func(thetas0, simulator, num_qubits, circ_depth, shots, ising, alpha=alpha, verbose=True)\n",
    "print(f\"\\nLoss at step 0 -> {loss0}\")"
   ]
  },
  {
   "cell_type": "code",
   "execution_count": null,
   "metadata": {},
   "outputs": [],
   "source": [
    "res = minimize(obj_func, thetas0, args=(simulator, num_qubits, circ_depth, shots, ising, alpha, True), \n",
    "               method=method, options={'maxiter': maxiter, 'disp':True})"
   ]
  },
  {
   "cell_type": "code",
   "execution_count": null,
   "metadata": {},
   "outputs": [],
   "source": [
    "thetas_opt  = res.x\n",
    "qc = create_circ(thetas_opt, num_qubits, circ_depth)\n",
    "counts = qc_eval(qc, simulator, shots)\n",
    "plot_histogram(counts)"
   ]
  },
  {
   "cell_type": "markdown",
   "metadata": {},
   "source": [
    "ridefinire time to solution\n",
    "in lidar loro trovano l'ottimo per ogni N numero di istanze parallele\n",
    "carleo non-stoquastic QA con troyer\n",
    "\n",
    "Noi geralizziamo facendo una funzione in 2D oppure numero di shots come parametro t in modo fa fare una famiglia di funzioni\n",
    "\n",
    "Cosa vogliamo: resolurce to solution, moltiplico N_shot e N_step\n",
    "ferromagnetico bias\n",
    "mi servono alcuni for\n",
    "- random su theta\n",
    "- scalo su shots \n",
    "- scalo su step (maxiter)\n",
    "\n",
    "alpha suggerito da loro (0.25)\n",
    "\n",
    "valuto con RTS (TTS dove moltiplico per gli shots) non normalizzato per n_max\n",
    "\n",
    "n.b. green quantum computing paper montangero"
   ]
  },
  {
   "cell_type": "code",
   "execution_count": null,
   "metadata": {},
   "outputs": [],
   "source": [
    "results = dict(res)\n",
    "results"
   ]
  },
  {
   "cell_type": "code",
   "execution_count": null,
   "metadata": {},
   "outputs": [],
   "source": [
    "type(results['fun'])"
   ]
  },
  {
   "cell_type": "code",
   "execution_count": null,
   "metadata": {},
   "outputs": [],
   "source": [
    "import json\n",
    "from json import JSONEncoder\n",
    "\n",
    "\n",
    "class NumpyArrayEncoder(JSONEncoder):\n",
    "    def default(self, obj):\n",
    "        if isinstance(obj, np.ndarray):\n",
    "            return obj.tolist()\n",
    "        if isinstance(obj, np.bool_):\n",
    "            return bool(obj)\n",
    "        if isinstance(obj, np.float64):\n",
    "            return float(obj)\n",
    "        return JSONEncoder.default(self, obj)\n",
    "\n",
    "# Serializing json\n",
    "with open(\"results.json\", \"w\") as outfile:\n",
    "    json.dump(results, outfile, cls=NumpyArrayEncoder, indent=4)"
   ]
  }
 ],
 "metadata": {
  "kernelspec": {
   "display_name": "Python 3.10.4 ('cvar')",
   "language": "python",
   "name": "python3"
  },
  "language_info": {
   "codemirror_mode": {
    "name": "ipython",
    "version": 3
   },
   "file_extension": ".py",
   "mimetype": "text/x-python",
   "name": "python",
   "nbconvert_exporter": "python",
   "pygments_lexer": "ipython3",
   "version": "3.10.4"
  },
  "orig_nbformat": 4,
  "vscode": {
   "interpreter": {
    "hash": "b3c625637230a5b7ad254c94d5c84587d6b3e71b3826eabd556557ff2223426f"
   }
  }
 },
 "nbformat": 4,
 "nbformat_minor": 2
}
